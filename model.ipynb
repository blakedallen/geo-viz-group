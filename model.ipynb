{
 "cells": [
  {
   "cell_type": "code",
   "execution_count": 1,
   "metadata": {},
   "outputs": [],
   "source": [
    "# Libraries for reading, cleaning and plotting the dataa\n",
    "import numpy as np \n",
    "import pandas as pd \n",
    "import os\n",
    "\n",
    "# Libraries for models \n",
    "from sklearn.linear_model import LinearRegression\n"
   ]
  },
  {
   "cell_type": "code",
   "execution_count": 2,
   "metadata": {},
   "outputs": [],
   "source": [
    "def linear_model():\n",
    "    '''This function generates a linear model to predict change in sea level rise in cm (global mean) given historical co2 emissions in gt'''\n",
    "    # Read in training data \n",
    "    df= pd.read_excel(\"slr_data.xlsx\",sheet_name=\"data\")\n",
    "    #add a variable for change in sea level\n",
    "    sl_chg =np.diff(df[\"sea_level (cm)\"].to_numpy())\n",
    "    #get the x variable without final year\n",
    "    co2_gt = df[\"co2_gt\"][:-1]\n",
    "    #create a new df for co2 emission(x) and change in sea level (y)\n",
    "    new_df = pd.DataFrame(zip(sl_chg,co2_gt),columns=[\"sl_chg\",\"co2_gt\"])\n",
    "\n",
    "    #split the data into training and dev datasets\n",
    "    training_df = new_df.sample(frac=0.8)\n",
    "    dev_df = new_df.drop(training_df.index)\n",
    "\n",
    "    train_data = training_df.co2_gt.to_numpy().reshape(-1,1)\n",
    "    train_label = training_df[\"sl_chg\"]\n",
    "\n",
    "    dev_data = dev_df.co2_gt.to_numpy().reshape(-1,1)\n",
    "    dev_label = dev_df[\"sl_chg\"]\n",
    "    \n",
    "    #fit a linear model\n",
    "    model = LinearRegression()\n",
    "    model.fit(train_data,train_label)\n",
    "\n",
    "#     #score the model\n",
    "    print(\"R2: \", model.score(dev_data,dev_label))\n",
    "    return model"
   ]
  },
  {
   "cell_type": "code",
   "execution_count": 3,
   "metadata": {},
   "outputs": [],
   "source": [
    "def gen_slr(gt):\n",
    "    '''This function takes a new co2 emission in gt and gives slr in cm'''\n",
    "    if gt <=0:\n",
    "        return 0\n",
    "    else:\n",
    "        model=linear_model()\n",
    "        #predicts global mean sea level in cm.\n",
    "        return model.predict(np.array([gt]).reshape(-1,1))"
   ]
  },
  {
   "cell_type": "code",
   "execution_count": 4,
   "metadata": {},
   "outputs": [
    {
     "name": "stdout",
     "output_type": "stream",
     "text": [
      "R2:  -0.3914689846398576\n"
     ]
    },
    {
     "data": {
      "text/plain": [
       "array([0.38455535])"
      ]
     },
     "execution_count": 4,
     "metadata": {},
     "output_type": "execute_result"
    }
   ],
   "source": [
    "gen_slr(30)"
   ]
  },
  {
   "cell_type": "code",
   "execution_count": null,
   "metadata": {},
   "outputs": [],
   "source": []
  },
  {
   "cell_type": "code",
   "execution_count": null,
   "metadata": {},
   "outputs": [],
   "source": []
  }
 ],
 "metadata": {
  "environment": {
   "name": "tf2-2-3-gpu.2-3.m56",
   "type": "gcloud",
   "uri": "gcr.io/deeplearning-platform-release/tf2-2-3-gpu.2-3:m56"
  },
  "kernelspec": {
   "display_name": "Python 3",
   "language": "python",
   "name": "python3"
  },
  "language_info": {
   "codemirror_mode": {
    "name": "ipython",
    "version": 3
   },
   "file_extension": ".py",
   "mimetype": "text/x-python",
   "name": "python",
   "nbconvert_exporter": "python",
   "pygments_lexer": "ipython3",
   "version": "3.7.7"
  }
 },
 "nbformat": 4,
 "nbformat_minor": 4
}
